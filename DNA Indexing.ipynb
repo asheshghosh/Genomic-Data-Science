{
 "cells": [
  {
   "cell_type": "markdown",
   "metadata": {},
   "source": [
    "# Indexing"
   ]
  },
  {
   "cell_type": "code",
   "execution_count": 2,
   "metadata": {},
   "outputs": [],
   "source": [
    "import bisect\n",
    "import sys\n",
    "import time"
   ]
  },
  {
   "cell_type": "code",
   "execution_count": 3,
   "metadata": {},
   "outputs": [],
   "source": [
    "class Index(object):\n",
    "    def __init__(self, t, k):\n",
    "        ''' Create index from all substrings of size 'length' '''\n",
    "        self.k = k  # k-mer length (k)\n",
    "        self.index = []\n",
    "        for i in range(len(t) - k + 1):  # for each k-mer\n",
    "            self.index.append((t[i:i+k], i))  # add (k-mer, offset) pair\n",
    "        self.index.sort()  # alphabetize by k-mer\n",
    "    \n",
    "    def query(self, p):\n",
    "        ''' Return index hits for first k-mer of P '''\n",
    "        kmer = p[:self.k]  # query with first k-mer\n",
    "        i = bisect.bisect_left(self.index, (kmer, -1))  # binary search\n",
    "        hits = []\n",
    "        while i < len(self.index):  # collect matching index entries\n",
    "            if self.index[i][0] != kmer:\n",
    "                break\n",
    "            hits.append(self.index[i][1])\n",
    "            i += 1\n",
    "        return hits\n",
    "\n",
    "\n",
    "class OptimizedIndex:\n",
    "    def __init__(self, t, k):\n",
    "        \"\"\"\n",
    "        Create an index from all substrings of length k in the given text t.\n",
    "        \n",
    "        Args:\n",
    "            t (str): The text (e.g., a genome) to index.\n",
    "            k (int): The length of each substring (k-mer) to extract.\n",
    "        \"\"\"\n",
    "        self.k = k\n",
    "        # Build and sort the list of (k-mer, offset) pairs using a list comprehension.\n",
    "        self.index = sorted((t[i:i+k], i) for i in range(len(t) - k + 1))\n",
    "\n",
    "    def opt_query(self, p):\n",
    "        \"\"\"\n",
    "        Return index hits for the first k-mer of the pattern p using binary search.\n",
    "        \n",
    "        Args:\n",
    "            p (str): The pattern string for which to query the index.\n",
    "        \n",
    "        Returns:\n",
    "            list: A list of starting offsets in the text where the first k-mer of p occurs.\n",
    "        \"\"\"\n",
    "        kmer = p[:self.k]\n",
    "        # Use bisect_left and bisect_right to find the range of matching k-mers.\n",
    "        left = bisect.bisect_left(self.index, (kmer, -1))\n",
    "        right = bisect.bisect_right(self.index, (kmer, float('inf')))\n",
    "        return [offset for _, offset in self.index[left:right]]\n",
    "\n"
   ]
  },
  {
   "cell_type": "code",
   "execution_count": 4,
   "metadata": {},
   "outputs": [],
   "source": [
    "def queryIndex(p, t, index):\n",
    "    k = index.k\n",
    "    offsets = []\n",
    "    for i in index.query(p):\n",
    "        if p[k:] == t[i+k:i+len(p)]:  # verify that rest of P matches\n",
    "            offsets.append(i)\n",
    "    return offsets\n",
    "\n",
    "def optimized_query_index(p, t, index):\n",
    "    \"\"\"\n",
    "    Query the index for a pattern p in text t and verify full pattern matches.\n",
    "\n",
    "    For each candidate offset returned by index.query(p), this function checks whether\n",
    "    the remaining portion of the pattern (after the first k-mer) exactly matches the\n",
    "    corresponding slice in t.\n",
    "\n",
    "    Args:\n",
    "        p (str): The pattern to search for.\n",
    "        t (str): The text in which to search.\n",
    "        index: An index object with attribute 'k' (k-mer length) and method query() that\n",
    "               returns candidate offsets for the first k-mer of p.\n",
    "\n",
    "    Returns:\n",
    "        list: A list of offsets where the full pattern p matches in t.\n",
    "    \"\"\"\n",
    "    k = index.k\n",
    "    pattern_suffix = p[k:]\n",
    "    p_len = len(p)\n",
    "    return [i for i in index.query(p) if pattern_suffix == t[i+k:i+p_len]]\n",
    "\n",
    "\n"
   ]
  },
  {
   "cell_type": "code",
   "execution_count": 5,
   "metadata": {},
   "outputs": [
    {
     "name": "stdout",
     "output_type": "stream",
     "text": [
      "[21, 68]\n",
      "Time taken: 331.458 microseconds\n",
      "[21, 68]\n",
      "Time taken: 97.042 microseconds\n"
     ]
    }
   ],
   "source": [
    "t = 'ACTTGGAGATCTTTGAGGCTAGGTATTCGGGATCGAAGCTCATTTCGGGGATCGATTACGATATGGTGGGTATTCGGGA'\n",
    "p = 'GGTATTCGGGA'\n",
    "\n",
    "\n",
    "start = time.perf_counter()\n",
    "index = Index(t, 4)\n",
    "print(queryIndex(p, t, index))\n",
    "end = time.perf_counter()\n",
    "print(f\"Time taken: {(end - start) * 1e6:.3f} microseconds\")\n",
    "\n",
    "start = time.perf_counter()\n",
    "index = Index(t, 4)\n",
    "print(optimized_query_index(p, t, index))\n",
    "end = time.perf_counter()\n",
    "print(f\"Time taken: {(end - start) * 1e6:.3f} microseconds\")\n"
   ]
  },
  {
   "cell_type": "code",
   "execution_count": null,
   "metadata": {},
   "outputs": [],
   "source": []
  }
 ],
 "metadata": {
  "kernelspec": {
   "display_name": "base",
   "language": "python",
   "name": "python3"
  },
  "language_info": {
   "codemirror_mode": {
    "name": "ipython",
    "version": 3
   },
   "file_extension": ".py",
   "mimetype": "text/x-python",
   "name": "python",
   "nbconvert_exporter": "python",
   "pygments_lexer": "ipython3",
   "version": "3.9.7"
  }
 },
 "nbformat": 4,
 "nbformat_minor": 2
}
