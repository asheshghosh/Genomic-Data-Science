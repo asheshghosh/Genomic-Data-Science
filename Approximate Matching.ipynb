{
 "cells": [
  {
   "cell_type": "markdown",
   "metadata": {},
   "source": [
    "## Here we shall implement for an approximate match algorithm using the Pigeonhole principle.\n",
    "We will import functions from different python modules now!"
   ]
  },
  {
   "cell_type": "code",
   "execution_count": 11,
   "metadata": {},
   "outputs": [],
   "source": [
    "from Boyer_Moore import *\n",
    "from optimized_boyer_moore import *"
   ]
  },
  {
   "cell_type": "code",
   "execution_count": 12,
   "metadata": {},
   "outputs": [],
   "source": [
    "def optimized_approximate_match(p, t, n):\n",
    "    \"\"\"\n",
    "    Perform approximate pattern matching allowing up to n mismatches by partitioning the pattern.\n",
    "\n",
    "    The pattern p is divided into n+1 segments. Each segment is searched in the text t using the\n",
    "    Boyer-Moore algorithm. Candidate matches are then verified by checking the portions of the pattern\n",
    "    not covered by the segment. If the total number of mismatches is within n, the match is recorded.\n",
    "\n",
    "    Args:\n",
    "        p (str): The pattern string.\n",
    "        t (str): The text string.\n",
    "        n (int): The maximum allowed number of mismatches.\n",
    "\n",
    "    Returns:\n",
    "        list: A list of offsets in t where an approximate match of p is found.\n",
    "    \"\"\"\n",
    "    p_len = len(p)\n",
    "    t_len = len(t)\n",
    "    # Calculate segment length (using rounding to better distribute mismatches)\n",
    "    segment_length = int(round(p_len / (n + 1)))\n",
    "    all_matches = set()\n",
    "\n",
    "    for i in range(n + 1):\n",
    "        start = i * segment_length\n",
    "        end = min((i + 1) * segment_length, p_len)\n",
    "        segment = p[start:end]\n",
    "        # Build Boyer-Moore index for the current segment\n",
    "        p_bm = OptimizedBoyerMoore(segment, alphabet='ACGT')\n",
    "        matches = optimized_boyer_moore(segment, p_bm, t)\n",
    "        for m in matches:\n",
    "            offset = m - start\n",
    "            # Ensure the candidate alignment is valid within t\n",
    "            if offset < 0 or offset + p_len > t_len:\n",
    "                continue\n",
    "            mismatches = 0\n",
    "            # Check the portion before the segment\n",
    "            for j in range(0, start):\n",
    "                if p[j] != t[offset + j]:\n",
    "                    mismatches += 1\n",
    "                    if mismatches > n:\n",
    "                        break\n",
    "            if mismatches > n:\n",
    "                continue\n",
    "            # Check the portion after the segment\n",
    "            for j in range(end, p_len):\n",
    "                if p[j] != t[offset + j]:\n",
    "                    mismatches += 1\n",
    "                    if mismatches > n:\n",
    "                        break\n",
    "            if mismatches <= n:\n",
    "                all_matches.add(offset)\n",
    "    return list(all_matches)\n"
   ]
  },
  {
   "cell_type": "markdown",
   "metadata": {},
   "source": [
    "## Check if this works"
   ]
  },
  {
   "cell_type": "code",
   "execution_count": 13,
   "metadata": {},
   "outputs": [
    {
     "name": "stdout",
     "output_type": "stream",
     "text": [
      "[0, 5]\n"
     ]
    }
   ],
   "source": [
    "pattern = 'AACTTG'\n",
    "text = 'CACTTAATTTG'\n",
    "print(optimized_approximate_match(pattern, text, 2))"
   ]
  },
  {
   "cell_type": "code",
   "execution_count": null,
   "metadata": {},
   "outputs": [],
   "source": []
  }
 ],
 "metadata": {
  "kernelspec": {
   "display_name": "base",
   "language": "python",
   "name": "python3"
  },
  "language_info": {
   "codemirror_mode": {
    "name": "ipython",
    "version": 3
   },
   "file_extension": ".py",
   "mimetype": "text/x-python",
   "name": "python",
   "nbconvert_exporter": "python",
   "pygments_lexer": "ipython3",
   "version": "3.9.7"
  }
 },
 "nbformat": 4,
 "nbformat_minor": 2
}
