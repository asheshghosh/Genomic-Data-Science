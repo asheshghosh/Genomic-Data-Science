{
 "cells": [
  {
   "cell_type": "code",
   "execution_count": 3,
   "metadata": {},
   "outputs": [
    {
     "name": "stdout",
     "output_type": "stream",
     "text": [
      "Matches for pattern and its reverse complement: [0, 3, 8, 11]\n",
      "Genome read from FASTA file (first 300 bases shown):\n",
      "GGGCGGCGACCTCGCGGGTTTTCGCTATTTATGAAAATTTTCCGGTTTAAGGCGTTTCCGTTCTTCTTCGTCATAACTTAATGTTTTTATTTAAAATACCCTCTGAAAAGAAAGGAAACGACAGGTGCTGAAAGCGAGGCTTTTTGGCCTCTGTCGTTTCCTTTCTCTGTTTTTGTCCGTGGAATGAACAATGGAAGTCAACAAAAAGCAGCTGGCTGACATTTTCGGTGCGAGTATCCGTACCATTCAGAACTGGCAGGAACAGGGAATGCCCGTTCTGCGAGGCGGTGGCAAGGGTAA\n"
     ]
    }
   ],
   "source": [
    "import urllib.request\n",
    "import os\n",
    "import tkinter as tk\n",
    "from tkinter import filedialog\n",
    "\n",
    "def reverseComplement(s):\n",
    "    complement = {'A': 'T', 'C': 'G', 'G': 'C', 'T': 'A', 'N': 'N'}\n",
    "    t = ''\n",
    "    for base in s:\n",
    "        t = complement[base] + t\n",
    "    return t\n",
    "\n",
    "def naive_with_rc(p, T):\n",
    "    \"\"\"\n",
    "    Searches for occurrences of pattern p or its reverse complement in text T.\n",
    "    Returns a sorted list of starting indices where either occurs.\n",
    "    If p equals its reverse complement, a match is reported only once.\n",
    "    \"\"\"\n",
    "    occurrences = set()  # Use a set to avoid duplicate indices.\n",
    "    p_rc = reverseComplement(p)\n",
    "    \n",
    "    # Function to search for a given pattern in T.\n",
    "    def search(pattern):\n",
    "        for i in range(len(T) - len(pattern) + 1):\n",
    "            match = True\n",
    "            for j in range(len(pattern)):\n",
    "                if T[i+j] != pattern[j]:\n",
    "                    match = False\n",
    "                    break\n",
    "            if match:\n",
    "                occurrences.add(i)\n",
    "    \n",
    "    # Search for the pattern.\n",
    "    search(p)\n",
    "    # If the reverse complement differs, search for it as well.\n",
    "    if p_rc != p:\n",
    "        search(p_rc)\n",
    "        \n",
    "    return sorted(occurrences)\n",
    "\n",
    "# Example usage of naive_with_rc:\n",
    "T = \"ACTAGTACACTAGT\"\n",
    "p = \"ACT\"\n",
    "matches = naive_with_rc(p, T)\n",
    "print(\"Matches for pattern and its reverse complement:\", matches)\n",
    "\n",
    "def readGenome(filename):\n",
    "    \"\"\"\n",
    "    Reads a genome from a FASTA file.\n",
    "    Lines starting with '>' are headers and are skipped.\n",
    "    \"\"\"\n",
    "    genome = ''\n",
    "    with open(filename, 'r') as f:\n",
    "        for line in f:\n",
    "            if line.startswith('>'):\n",
    "                continue\n",
    "            genome += line.rstrip()\n",
    "    return genome\n",
    "\n",
    "# Set up Tkinter root and hide the main window.\n",
    "root = tk.Tk()\n",
    "root.withdraw()\n",
    "\n",
    "# Construct a default directory path pointing to the Desktop.\n",
    "desktop_dir = os.path.join(os.path.expanduser(\"~\"), \"Desktop\")\n",
    "\n",
    "# Open a file dialog starting in the Desktop folder.\n",
    "file_path = filedialog.askopenfilename(\n",
    "    initialdir=desktop_dir,\n",
    "    title=\"Select FASTA file\",\n",
    "    filetypes=[(\"FASTA files\", \"*.fa *.fasta\"), (\"All files\", \"*.*\")]\n",
    ")\n",
    "\n",
    "if file_path:\n",
    "    genome = readGenome(file_path)\n",
    "    print(\"Genome read from FASTA file (first 300 bases shown):\")\n",
    "    print(genome[:300])\n",
    "else:\n",
    "    print(\"No file selected.\")\n",
    "\n"
   ]
  },
  {
   "cell_type": "markdown",
   "metadata": {},
   "source": [
    "# An alternative method"
   ]
  },
  {
   "cell_type": "code",
   "execution_count": 7,
   "metadata": {},
   "outputs": [
    {
     "name": "stdout",
     "output_type": "stream",
     "text": [
      "--2025-03-26 14:12:02--  https://d28rh4a8wq0iu5.cloudfront.net/ads1/data/lambda_virus.fa\n",
      "Resolving d28rh4a8wq0iu5.cloudfront.net (d28rh4a8wq0iu5.cloudfront.net)... 18.155.188.60, 18.155.188.170, 18.155.188.167, ...\n",
      "Connecting to d28rh4a8wq0iu5.cloudfront.net (d28rh4a8wq0iu5.cloudfront.net)|18.155.188.60|:443... connected.\n",
      "HTTP request sent, awaiting response... 200 OK\n",
      "Length: 49270 (48K) [application/octet-stream]\n",
      "Saving to: ‘/tmp/lambda_virus.fa’\n",
      "\n",
      "lambda_virus.fa     100%[===================>]  48.12K  --.-KB/s    in 0.01s   \n",
      "\n",
      "2025-03-26 14:12:03 (3.39 MB/s) - ‘/tmp/lambda_virus.fa’ saved [49270/49270]\n",
      "\n"
     ]
    }
   ],
   "source": [
    "# Lambda Virus genome\n",
    "!wget -P /tmp https://d28rh4a8wq0iu5.cloudfront.net/ads1/data/lambda_virus.fa"
   ]
  },
  {
   "cell_type": "code",
   "execution_count": 8,
   "metadata": {},
   "outputs": [],
   "source": [
    "def readGenome(filename):\n",
    "    genome = ''\n",
    "    with open(filename, 'r') as f:\n",
    "        for line in f:\n",
    "            # ignore header line with genome information\n",
    "            if not line[0] == '>':\n",
    "                genome += line.rstrip()\n",
    "    return genome\n"
   ]
  },
  {
   "cell_type": "code",
   "execution_count": 10,
   "metadata": {},
   "outputs": [],
   "source": [
    "lambda_virus_genome = readGenome('/tmp/lambda_virus.fa')"
   ]
  },
  {
   "cell_type": "code",
   "execution_count": 12,
   "metadata": {},
   "outputs": [
    {
     "name": "stdout",
     "output_type": "stream",
     "text": [
      "offset of leftmost occurrence: 78\n",
      "# occurrences: 383\n"
     ]
    }
   ],
   "source": [
    "occurrences = naive_with_rc('ATTA', lambda_virus_genome)\n",
    "print('offset of leftmost occurrence: %d' % min(occurrences))\n",
    "print('# occurrences: %d' % len(occurrences))\n",
    "\n"
   ]
  },
  {
   "cell_type": "code",
   "execution_count": null,
   "metadata": {},
   "outputs": [],
   "source": []
  }
 ],
 "metadata": {
  "kernelspec": {
   "display_name": "base",
   "language": "python",
   "name": "python3"
  },
  "language_info": {
   "codemirror_mode": {
    "name": "ipython",
    "version": 3
   },
   "file_extension": ".py",
   "mimetype": "text/x-python",
   "name": "python",
   "nbconvert_exporter": "python",
   "pygments_lexer": "ipython3",
   "version": "3.9.7"
  }
 },
 "nbformat": 4,
 "nbformat_minor": 2
}
